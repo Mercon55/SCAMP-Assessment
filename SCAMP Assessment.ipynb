{
 "cells": [
  {
   "cell_type": "code",
   "execution_count": 9,
   "metadata": {},
   "outputs": [
    {
     "name": "stdout",
     "output_type": "stream",
     "text": [
      "How many terms? 7\n",
      "Fibonacci sequence:\n",
      "0\n",
      "1\n",
      "1\n",
      "2\n",
      "3\n",
      "5\n",
      "8\n"
     ]
    }
   ],
   "source": [
    "#Using Python to write out a function that outputs the fibbonacci sequence of a given number\n",
    "number_of_terms = int(input(\"How many terms? \"))\n",
    "#defining the first two terms and starting the count from 0\n",
    "n1, n2 = 0, 1\n",
    "count = 0\n",
    "\n",
    "#checking for a valid number of terms\n",
    "if number_of_terms <= 0:\n",
    "    print(\"You have a negative integer, please enter a positive integer\")\n",
    "elif number_of_terms ==1:\n",
    "    print(\"Fibonacci sequence upto\", number_of_terms, \":\")\n",
    "    print(n1)\n",
    "else:\n",
    "    print(\"Fibonacci sequence:\")\n",
    "    while count < number_of_terms:\n",
    "        print(n1)\n",
    "        nth = n1 + n2\n",
    "        #updating values\n",
    "        n1 = n2\n",
    "        n2 = nth\n",
    "        count +=1"
   ]
  },
  {
   "cell_type": "markdown",
   "metadata": {},
   "source": [
    "#using recursive method"
   ]
  },
  {
   "cell_type": "code",
   "execution_count": 14,
   "metadata": {},
   "outputs": [
    {
     "name": "stdout",
     "output_type": "stream",
     "text": [
      "Fibonacci sequence:\n",
      "0\n",
      "1\n",
      "1\n",
      "2\n",
      "3\n",
      "5\n",
      "8\n",
      "13\n",
      "21\n",
      "34\n",
      "55\n",
      "89\n"
     ]
    }
   ],
   "source": [
    "def recur_fib(n):\n",
    "    if n <= 1:\n",
    "        return n\n",
    "    else:\n",
    "        return(recur_fib(n-1) + recur_fib(n-2))\n",
    "number_of_terms = 12\n",
    "if number_of_terms <= 0:\n",
    "    print('You have a negative integer, please print a positive integer')\n",
    "else:\n",
    "    print('Fibonacci sequence:')\n",
    "    for a in range(number_of_terms):\n",
    "        print(recur_fib(a))"
   ]
  },
  {
   "cell_type": "code",
   "execution_count": null,
   "metadata": {},
   "outputs": [],
   "source": []
  }
 ],
 "metadata": {
  "kernelspec": {
   "display_name": "Python 3",
   "language": "python",
   "name": "python3"
  },
  "language_info": {
   "codemirror_mode": {
    "name": "ipython",
    "version": 3
   },
   "file_extension": ".py",
   "mimetype": "text/x-python",
   "name": "python",
   "nbconvert_exporter": "python",
   "pygments_lexer": "ipython3",
   "version": "3.7.6"
  }
 },
 "nbformat": 4,
 "nbformat_minor": 4
}
